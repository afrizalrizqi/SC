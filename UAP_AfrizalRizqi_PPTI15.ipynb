{
  "nbformat": 4,
  "nbformat_minor": 0,
  "metadata": {
    "colab": {
      "provenance": []
    },
    "kernelspec": {
      "name": "python3",
      "display_name": "Python 3"
    },
    "language_info": {
      "name": "python"
    }
  },
  "cells": [
    {
      "cell_type": "code",
      "execution_count": null,
      "metadata": {
        "id": "u7dPL7ZigT8B"
      },
      "outputs": [],
      "source": [
        "import numpy as np\n",
        "import matplotlib.pyplot as plt"
      ]
    },
    {
      "cell_type": "markdown",
      "source": [
        "1. Solving Linear Equation"
      ],
      "metadata": {
        "id": "5Fduca8ZuDTC"
      }
    },
    {
      "cell_type": "code",
      "source": [
        "Xs = [\n",
        "        [\n",
        "            [12, -1, 2, -3],\n",
        "            [5, 15, 5, 2],\n",
        "            [-7, 5, 27, -13],\n",
        "            [6, -7, 8, -22]\n",
        "        ],\n",
        "        [\n",
        "            [13, 21, 15],\n",
        "            [-3, -6, 13],\n",
        "            [12, 17, 9]\n",
        "        ],\n",
        "        [\n",
        "            [13, -5, 3],\n",
        "            [5, -7, 1],\n",
        "            [-3, -4, -9]\n",
        "        ],\n",
        "        [\n",
        "            [91, -29, -35, 22],\n",
        "            [18, -89, 31, -24],\n",
        "            [-29, 16, -76, 25],\n",
        "            [-13, -46, -17, 79]\n",
        "        ],\n",
        "        [\n",
        "            [2.18, -1.68, 21.5],\n",
        "            [-5.71, -23.22, 9.35],\n",
        "            [-11.21, -3.21, 24.54]\n",
        "        ],\n",
        "        [\n",
        "            [15.2, -5.91, 1.53, -2.67],\n",
        "            [6.34, 21.14, -8.39, -3.32],\n",
        "            [-3.41, 12.9, 27.81, -7.32],\n",
        "            [-8.18, -7.24, -6.35, -24.16]\n",
        "        ]\n",
        "]\n",
        "Ys = [\n",
        "    [17, -15, -25, 19],\n",
        "    [27, -15, 33],\n",
        "    [17, 12, -23],\n",
        "    [-272, -120, -354, 296],\n",
        "    [-21.33, 34.21, -25.71],\n",
        "    [21.76, -27.21, 35.31, -34.76]\n",
        "]"
      ],
      "metadata": {
        "id": "8ssdROLUhR2H"
      },
      "execution_count": null,
      "outputs": []
    },
    {
      "cell_type": "code",
      "source": [
        "def checkDiagonallyDominant(x):\n",
        "  x = np.array(x)\n",
        "\n",
        "  diag = np.diag(np.abs(x))\n",
        "  sumWithDiag = np.sum(np.abs(x), axis = 1)\n",
        "  sumWithoutDiag = sumWithDiag - diag\n",
        "\n",
        "  if np.all(diag > sumWithoutDiag):\n",
        "    print(\"Diagonally Dominant\")\n",
        "    return True\n",
        "  else :\n",
        "    print(\"Not Diagonally Dominant\")\n",
        "    return False\n",
        "\n",
        "for i in range(len(Xs)):\n",
        "  checkDiagonallyDominant(Xs[i])"
      ],
      "metadata": {
        "colab": {
          "base_uri": "https://localhost:8080/"
        },
        "id": "gWMFRL5thVMe",
        "outputId": "672dd755-c07c-4e85-e557-ec63e8fcafcb"
      },
      "execution_count": null,
      "outputs": [
        {
          "output_type": "stream",
          "name": "stdout",
          "text": [
            "Diagonally Dominant\n",
            "Not Diagonally Dominant\n",
            "Diagonally Dominant\n",
            "Diagonally Dominant\n",
            "Not Diagonally Dominant\n",
            "Diagonally Dominant\n"
          ]
        }
      ]
    },
    {
      "cell_type": "code",
      "source": [
        "def gaussSeidel(x,y,max,epsilon):\n",
        "  x = np.array(x)\n",
        "  y = np.array(y)\n",
        "\n",
        "  if (not checkDiagonallyDominant(x)):\n",
        "    return False\n",
        "\n",
        "  diag = np.diag(x)\n",
        "  x = -x\n",
        "\n",
        "  np.fill_diagonal(x,0)\n",
        "\n",
        "  x_initilize = np.zeros(x.shape[0])\n",
        "\n",
        "  for i in range(max):\n",
        "    x_new = np.array(x_initilize)\n",
        "    for j,row in enumerate(x):\n",
        "      x_new[j] = (y[j] + np.dot(row,x_new))/diag[j]\n",
        "\n",
        "    distance = np.sqrt(np.dot(x_new - x_initilize, x_new - x_initilize))\n",
        "\n",
        "    print(f\"Iteration {i+1} : {x_new}\")\n",
        "\n",
        "    if distance < epsilon:\n",
        "      print()\n",
        "      print(\"Converged!\")\n",
        "      return x_new\n",
        "    x_initilize = x_new\n",
        "  print()\n",
        "  print(\"Not Converged!\")\n",
        "  "
      ],
      "metadata": {
        "id": "AoCBX9Hxig8p"
      },
      "execution_count": null,
      "outputs": []
    },
    {
      "cell_type": "code",
      "source": [
        "for i,(x,y) in enumerate(zip(Xs,Ys)):\n",
        "  print(f\"Matrix {i+1}\")\n",
        "  gaussSeidel(x,y,10,0.00086)\n",
        "  print()\n",
        "  print(\"============================\")\n",
        "  "
      ],
      "metadata": {
        "colab": {
          "base_uri": "https://localhost:8080/"
        },
        "id": "pkg6-qOHjDEw",
        "outputId": "f0b1d98b-29e7-49d0-ac23-3265d65ea1dd"
      },
      "execution_count": null,
      "outputs": [
        {
          "output_type": "stream",
          "name": "stdout",
          "text": [
            "Matrix 1\n",
            "Diagonally Dominant\n",
            "Iteration 1 : [ 1.41666667 -1.47222222 -0.28600823 -0.11284138]\n",
            "Iteration 2 : [ 1.31343918 -1.32743146 -0.39391505 -0.22630296]\n",
            "Iteration 3 : [ 1.31512415 -1.27689597 -0.45746628 -0.26503243]\n",
            "Iteration 4 : [ 1.32024494 -1.25225523 -0.47934929 -0.27943355]\n",
            "Iteration 5 : [ 1.32234523 -1.24374084 -0.48731538 -0.28446663]\n",
            "Iteration 6 : [ 1.32312417 -1.24067404 -0.4901047  -0.28624428]\n",
            "Iteration 7 : [ 1.32340021 -1.23959927 -0.49108807 -0.28686857]\n",
            "Iteration 8 : [ 1.3234976  -1.2392207  -0.49143351 -0.28708807]\n",
            "\n",
            "Converged!\n",
            "\n",
            "============================\n",
            "Matrix 2\n",
            "Not Diagonally Dominant\n",
            "\n",
            "============================\n",
            "Matrix 3\n",
            "Diagonally Dominant\n",
            "Iteration 1 : [ 1.30769231 -0.78021978  2.46642247]\n",
            "Iteration 2 : [ 0.43843336 -1.04877296  2.87553242]\n",
            "Iteration 3 : [ 0.24073369 -1.13154273  2.97821888]\n",
            "Iteration 4 : [ 0.18520228 -1.15653853  3.00783858]\n",
            "Iteration 5 : [ 0.1687532  -1.16405649  3.01666293]\n",
            "Iteration 6 : [ 0.16382529 -1.1663158   3.0193097 ]\n",
            "Iteration 7 : [ 0.16234553 -1.16699466  3.02010467]\n",
            "Iteration 8 : [ 0.16190097 -1.16719864  3.02034351]\n",
            "\n",
            "Converged!\n",
            "\n",
            "============================\n",
            "Matrix 4\n",
            "Diagonally Dominant\n",
            "Iteration 1 : [-2.98901099  0.74379553  5.95502694  4.9695305 ]\n",
            "Iteration 2 : [-1.66300723  1.74610082  7.29477744  6.05965519]\n",
            "Iteration 3 : [-1.09184923  2.03430438  7.49610365  6.36478131]\n",
            "Iteration 4 : [-0.99633774  2.04146497  7.5615364   6.39874832]\n",
            "Iteration 5 : [-0.97710115  2.05898706  7.56905834  6.41373521]\n",
            "Iteration 6 : [-0.97224734  2.05854732  7.57204356  6.41492028]\n",
            "Iteration 7 : [-0.97152582  2.05941347  7.57234041  6.41560723]\n",
            "Iteration 8 : [-0.97130169  2.05937695  7.57247317  6.41565141]\n",
            "\n",
            "Converged!\n",
            "\n",
            "============================\n",
            "Matrix 5\n",
            "Not Diagonally Dominant\n",
            "\n",
            "============================\n",
            "Matrix 6\n",
            "Diagonally Dominant\n",
            "Iteration 1 : [ 1.43157895 -1.71647164  2.24143     0.87929877]\n",
            "Iteration 2 : [ 0.69302582 -0.46730908  1.80287566  0.87028585]\n",
            "Iteration 3 : [ 1.22128071 -0.80120359  2.02015771  0.73438064]\n",
            "Iteration 4 : [ 1.04571328 -0.68365919  1.90833341  0.7879901 ]\n",
            "Iteration 5 : [ 1.11208932 -0.73952705  1.95649806  0.76959944]\n",
            "Iteration 6 : [ 1.0822884  -0.71436233  1.93633029  0.77744896]\n",
            "Iteration 7 : [ 1.09548171 -0.72509046  1.94499051  0.77392073]\n",
            "Iteration 8 : [ 1.08981896 -0.72050923  1.94124241  0.77545026]\n",
            "Iteration 9 : [ 1.09224617 -0.72248449  1.94285887  0.77479554]\n",
            "Iteration 10 : [ 1.09120044 -0.72163215  1.94216295  0.77507709]\n",
            "\n",
            "Not Converged!\n",
            "\n",
            "============================\n"
          ]
        }
      ]
    },
    {
      "cell_type": "markdown",
      "source": [
        "2. Regression and Plotting\n"
      ],
      "metadata": {
        "id": "jcDmSLcPk2KY"
      }
    },
    {
      "cell_type": "code",
      "source": [
        "lX = [14, 23,  26,  27,  28,  29,  44,  44,  56,  57,  59, 64,  71,  74,  83,  84,  88, 101, 102, 103, 105, 106, 113, 117, 120, 122, 136, 156, 172, 176, 178, 180, 181, 181, 184, 188, 192, 194, 195, 198]\n",
        "\n",
        "lY = [1069,  1834,  1885,  4037,  4186,  4821,  5651,  6099,  6468,  6527,  7065,  8028, 8758,  8886,  9825, 10074, 10346, 10350, 10720, 10975, 11488, 11989, 11999, 12593, 13366, 13575, 13744, 15044, 15203, 16512, 16600, 17373, 17617, 18009, 18316, 18515, 18712, 19320, 19493, 19974]\n"
      ],
      "metadata": {
        "id": "pHwTTFfkklNT"
      },
      "execution_count": null,
      "outputs": []
    },
    {
      "cell_type": "code",
      "source": [
        "lX = np.array(lX)\n",
        "lY = np.array(lY)\n",
        "\n",
        "A = np.vstack([lX, np.ones(len(lX))]).T\n",
        "Y = np.vstack(lY)\n",
        "\n",
        "beta1 = np.dot(A.T,A)\n",
        "beta2 = np.linalg.inv(beta1)\n",
        "beta3 = np.dot(beta2,A.T)\n",
        "beta4 = np.dot(beta3,Y)\n",
        "\n",
        "m = beta4[0]\n",
        "c = beta4[1]\n",
        "\n",
        "y = m * lX + c\n",
        "plt.plot(lX, lY, 'bo')\n",
        "plt.plot(lX, y, 'r-')\n",
        "plt.show()"
      ],
      "metadata": {
        "colab": {
          "base_uri": "https://localhost:8080/",
          "height": 430
        },
        "id": "_w2IuTWrk03w",
        "outputId": "28e6d574-5329-4981-8d61-9cdc43adc1a8"
      },
      "execution_count": null,
      "outputs": [
        {
          "output_type": "display_data",
          "data": {
            "text/plain": [
              "<Figure size 640x480 with 1 Axes>"
            ],
            "image/png": "[encoded data removed]"
          },
          "metadata": {}
        }
      ]
    },
    {
      "cell_type": "markdown",
      "source": [
        "3. Newton Raphson"
      ],
      "metadata": {
        "id": "Bu8iMPoQlvRa"
      }
    },
    {
      "cell_type": "code",
      "source": [
        "from sympy import *\n",
        "x = symbols('x')\n",
        "\n",
        "f1 = 3*x**4-5*x**2+x\n",
        "df1 = diff(f1,x)\n",
        "f1 = lambdify(x,f1,'numpy')\n",
        "df1 = lambdify(x,df1,'numpy')"
      ],
      "metadata": {
        "id": "ZNxfYlpDlukB"
      },
      "execution_count": null,
      "outputs": []
    },
    {
      "cell_type": "code",
      "source": [
        "def newton_raphson(f,df,max,tolerance,x0):\n",
        "  if max == 30:\n",
        "    print(\"With current iteration, the root is not found\")\n",
        "    return False\n",
        "  \n",
        "  if np.abs(f(x0)) < tolerance:\n",
        "    print(f\"Iteration {max} the root calculation is {x0}\")\n",
        "    print(f\"In this iteration, we get the root of the equation is : {x0}\")\n",
        "    return\n",
        "\n",
        "  else:\n",
        "    if (x0 != 70) :\n",
        "      print(f\"Iteration {max} the root calculation is {x0}\")\n",
        "    return newton_raphson(f,df,max+1,tolerance,x0 - (f(x0)/df(x0)))"
      ],
      "metadata": {
        "id": "cT4KwKOgmVTK"
      },
      "execution_count": null,
      "outputs": []
    },
    {
      "cell_type": "code",
      "source": [
        "newton_raphson(f1,df1,0,0.086,70)"
      ],
      "metadata": {
        "colab": {
          "base_uri": "https://localhost:8080/"
        },
        "id": "Wl3oc085mvAr",
        "outputId": "f4f3d64b-418f-42ea-eed3-ce98444faaf0"
      },
      "execution_count": null,
      "outputs": [
        {
          "output_type": "stream",
          "name": "stdout",
          "text": [
            "Iteration 1 the root calculation is 52.50296393872526\n",
            "Iteration 2 the root calculation is 39.381169501620924\n",
            "Iteration 3 the root calculation is 29.541129818084812\n",
            "Iteration 4 the root calculation is 22.16283470903408\n",
            "Iteration 5 the root calculation is 16.6314145988037\n",
            "Iteration 6 the root calculation is 12.485898435398976\n",
            "Iteration 7 the root calculation is 9.38079522307635\n",
            "Iteration 8 the root calculation is 7.057297996650868\n",
            "Iteration 9 the root calculation is 5.321712931463143\n",
            "Iteration 10 the root calculation is 4.029323891851313\n",
            "Iteration 11 the root calculation is 3.0723691480605257\n",
            "Iteration 12 the root calculation is 2.3711783661896098\n",
            "Iteration 13 the root calculation is 1.8678259095445515\n",
            "Iteration 14 the root calculation is 1.5218411693904814\n",
            "Iteration 15 the root calculation is 1.3069500397828082\n",
            "Iteration 16 the root calculation is 1.2037296397191541\n",
            "Iteration 17 the root calculation is 1.177709965496303\n",
            "In this iteration, we get the root of the equation is : 1.177709965496303\n"
          ]
        }
      ]
    },
    {
      "cell_type": "markdown",
      "source": [
        "4. Integral Riemann \n"
      ],
      "metadata": {
        "id": "DK0GGw-uoxA7"
      }
    },
    {
      "cell_type": "code",
      "source": [
        "fx = lambda x : 12*x**3 + 4*x**2 - 12*x\n",
        "a = -4\n",
        "b = 5\n",
        "n = 40\n",
        "\n",
        "x = np.linspace(a,b,n)\n",
        "width = (b-a)/(n-1)\n",
        "\n",
        "xLeft = x[:-1]\n",
        "xRight = x[1:]\n",
        "xMid = (xLeft + xRight)/2\n",
        "\n",
        "yMid = fx(xMid)\n",
        "\n",
        "midRiemann = width * (np.sum(np.abs(yMid)))\n",
        "print(\"Mid Riemann : \",midRiemann)\n",
        "\n",
        "yTrapezoid = fx(x)\n",
        "trapezoid = (np.sum(np.abs(yTrapezoid[1:])) + np.sum(np.abs(yTrapezoid[:-1]))) * width/2\n",
        "print(\"Trapezoid : \", trapezoid)"
      ],
      "metadata": {
        "colab": {
          "base_uri": "https://localhost:8080/"
        },
        "id": "kxQivg6mofXw",
        "outputId": "bc9586be-977f-4469-e728-61945b091c23"
      },
      "execution_count": null,
      "outputs": [
        {
          "output_type": "stream",
          "name": "stdout",
          "text": [
            "Mid Riemann :  2488.5949546584507\n",
            "Trapezoid :  2498.018206645426\n"
          ]
        }
      ]
    }
  ]
}