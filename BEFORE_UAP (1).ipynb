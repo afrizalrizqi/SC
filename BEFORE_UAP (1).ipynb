{
  "nbformat": 4,
  "nbformat_minor": 0,
  "metadata": {
    "colab": {
      "provenance": []
    },
    "kernelspec": {
      "name": "python3",
      "display_name": "Python 3"
    },
    "language_info": {
      "name": "python"
    }
  },
  "cells": [
    {
      "cell_type": "code",
      "execution_count": 3,
      "metadata": {
        "id": "0y4KUxBG9ymG"
      },
      "outputs": [],
      "source": [
        "import numpy as np\n",
        "import matplotlib.pyplot as plt"
      ]
    },
    {
      "cell_type": "markdown",
      "source": [
        "Pertama jika ada snipad maka copy dulu ke google collab"
      ],
      "metadata": {
        "id": "n8H9XOaW-ggc"
      }
    },
    {
      "cell_type": "code",
      "source": [
        "mX = [\n",
        "        [\n",
        "            [10, 2, -6],\n",
        "            [-1, 4, 2],\n",
        "            [2, 3, 6]\n",
        "        ],\n",
        "        [\n",
        "            [-5, 2, -8],\n",
        "            [4, -3, -9],\n",
        "            [-8, -10, 9]\n",
        "        ],\n",
        "        [\n",
        "            [10, -5, 3, 0],\n",
        "            [3, -9, 2, -2],\n",
        "            [-8, 0, 17, -4],\n",
        "            [3, -3, -8, -15]\n",
        "        ],\n",
        "]\n",
        "\n",
        "mY = [\n",
        "    [17, -4, -12],\n",
        "    [13, -7, -2],\n",
        "    [9, 10, -10, -18]\n",
        "]\n"
      ],
      "metadata": {
        "id": "WBGzKrA3-BmK"
      },
      "execution_count": 2,
      "outputs": []
    },
    {
      "cell_type": "code",
      "source": [
        "# 1\n",
        "def checkDiagonallyDominant(x):\n",
        "  # disini dia akan ngecek apakah diagonalnya lebih besar dari hasil penjumlahan yang bukan diagonal\n",
        "  x = np.array(x)\n",
        "  diag = np.diag(np.abs(x))\n",
        "  sumWithDiag = np.sum(np.abs(x), axis = 1) #kita akan jumlahin ke samping maka dia axisnya 1\n",
        "  # kalau mau jumlahinnya atas ke bawah maka axisnya 0\n",
        "  sumWithoutDiag = sumWithDiag - diag\n",
        "  # print(sumWithoutDiag)\n",
        "\n",
        "# kalau mau print printnya berarti berada di tengah ini\n",
        "\n",
        "  if np.all(diag > sumWithoutDiag):\n",
        "    print(\"Diagonally Dominant\")\n",
        "    return True\n",
        "  else:\n",
        "    return False\n",
        "\n",
        "checkDiagonallyDominant(mX[0]) #kita perlu masukin array ke berapanya \n"
      ],
      "metadata": {
        "id": "cmVyy5gf-nl8",
        "colab": {
          "base_uri": "https://localhost:8080/"
        },
        "outputId": "4b52496b-b0d3-43b5-ddba-469f18d58867"
      },
      "execution_count": 4,
      "outputs": [
        {
          "output_type": "stream",
          "name": "stdout",
          "text": [
            "Diagonally Dominant\n"
          ]
        },
        {
          "output_type": "execute_result",
          "data": {
            "text/plain": [
              "True"
            ]
          },
          "metadata": {},
          "execution_count": 4
        }
      ]
    },
    {
      "cell_type": "code",
      "source": [
        "#2\n",
        "# buat function buat gauss seidel\n",
        "# dia nerima x dan y\n",
        "\n",
        "def gaussSeidel(x,y,max,epsilon):\n",
        "  x = np.array(x)\n",
        "  y = np.array(y)\n",
        "  \n",
        "  if (not checkDiagonallyDominant(x)): #jika dia tidak diagonal dominant maka return false / tidak lanjut\n",
        "    return False\n",
        "\n",
        "  # bikin dulu ada diag\n",
        "  diag = np.diag(x) #ini diagonalnya digunakan untuk membagi\n",
        "  x = -x #ini untuk pindah ruas maka ganti tanda\n",
        "\n",
        "  np.fill_diagonal(x,0) #kosongin pembaginya agar tidak ikut kehitung\n",
        "\n",
        "  # bikin array untuk iterasi\n",
        "  x_before = np.zeros(x.shape[0]) #ini buat np baru yang isinya 0\n",
        "  # np.shape ini untuk tau matriks kita isinya berapa kali berapa\n",
        "\n",
        "  for i in range(max): #dia mulai dari 0 sampai max\n",
        "    x_new = np.array(x_before)\n",
        "    # dibawah ini cuma tambahan aja buat ngecek\n",
        "    print(\"INI X NEW\")\n",
        "    print(x_new)\n",
        "    print(\"=========\")\n",
        "    for j, row in enumerate(x) : #j buat akses satu persatunya dan row ini untuk akses barisnya\n",
        "      # j ini untuk akses jalannya satu persatu dan row itu untuk akses barisnya\n",
        "      print(j,row)\n",
        "      #a = (17 - 2b + 6c)/10\n",
        "      x_new[j] = (y[j] + np.dot(row, x_new))/diag[j]\n",
        "\n",
        "    # ngecheck epsilonnya\n",
        "    distance =  np.sqrt(np.dot(x_new - x_before, x_new - x_before))\n",
        "\n",
        "    print(f\"{i} : {x_new}\")\n",
        "    #cek misalnya si distance < epsilon kita maka tinggal return\n",
        "    if distance < epsilon:\n",
        "      return x_new\n",
        "    # jika dia ga masuk ke if nya maka\n",
        "    x_before = x_new\n",
        "    \n",
        "  # return False kalau gapakae return false maka akan munculnya none"
      ],
      "metadata": {
        "id": "HT6Mh5Zk-nrM"
      },
      "execution_count": 5,
      "outputs": []
    },
    {
      "cell_type": "code",
      "source": [
        "# print(\"Shape\")\n",
        "# x = np.array([0,1,2])\n",
        "# print(x.shape)\n",
        "\n",
        "# print(\" \")\n",
        "\n",
        "print(\"Gauss Seidel\")\n",
        "# buat loopingin nested arraynya\n",
        "# pertama looping sebanyak matriksnya\n",
        "for i, (x,y) in enumerate(zip(mX,mY)) : #ini dia mau akses mX dan mY nya secara bersamaan\n",
        "  # zip ini untuk akses x,y dan pasangannya x itu akses di mX dan y itu akses di mY\n",
        "  gaussSeidel(x, y, 5, 0.01456)\n",
        "\n",
        "  print(\"\\nPrint Gauss Seidelnya\")\n",
        "  print(gaussSeidel(x,y,5,0.01456))"
      ],
      "metadata": {
        "id": "L5F_w1W5B6ol",
        "colab": {
          "base_uri": "https://localhost:8080/"
        },
        "outputId": "5b6d99d8-b2da-4405-8c79-6e1a26c896d6"
      },
      "execution_count": 6,
      "outputs": [
        {
          "output_type": "stream",
          "name": "stdout",
          "text": [
            "Gauss Seidel\n",
            "Diagonally Dominant\n",
            "INI X NEW\n",
            "[0. 0. 0.]\n",
            "=========\n",
            "0 [ 0 -2  6]\n",
            "1 [ 1  0 -2]\n",
            "2 [-2 -3  0]\n",
            "0 : [ 1.7        -0.575      -2.27916667]\n",
            "INI X NEW\n",
            "[ 1.7        -0.575      -2.27916667]\n",
            "=========\n",
            "0 [ 0 -2  6]\n",
            "1 [ 1  0 -2]\n",
            "2 [-2 -3  0]\n",
            "1 : [ 0.4475      0.25145833 -2.27489583]\n",
            "INI X NEW\n",
            "[ 0.4475      0.25145833 -2.27489583]\n",
            "=========\n",
            "0 [ 0 -2  6]\n",
            "1 [ 1  0 -2]\n",
            "2 [-2 -3  0]\n",
            "2 : [ 0.28477083  0.20864062 -2.19924392]\n",
            "INI X NEW\n",
            "[ 0.28477083  0.20864062 -2.19924392]\n",
            "=========\n",
            "0 [ 0 -2  6]\n",
            "1 [ 1  0 -2]\n",
            "2 [-2 -3  0]\n",
            "3 : [ 0.33872552  0.18430334 -2.20506018]\n",
            "INI X NEW\n",
            "[ 0.33872552  0.18430334 -2.20506018]\n",
            "=========\n",
            "0 [ 0 -2  6]\n",
            "1 [ 1  0 -2]\n",
            "2 [-2 -3  0]\n",
            "4 : [ 0.34010322  0.1875559  -2.20714569]\n",
            "\n",
            "Print Gauss Seidelnya\n",
            "Diagonally Dominant\n",
            "INI X NEW\n",
            "[0. 0. 0.]\n",
            "=========\n",
            "0 [ 0 -2  6]\n",
            "1 [ 1  0 -2]\n",
            "2 [-2 -3  0]\n",
            "0 : [ 1.7        -0.575      -2.27916667]\n",
            "INI X NEW\n",
            "[ 1.7        -0.575      -2.27916667]\n",
            "=========\n",
            "0 [ 0 -2  6]\n",
            "1 [ 1  0 -2]\n",
            "2 [-2 -3  0]\n",
            "1 : [ 0.4475      0.25145833 -2.27489583]\n",
            "INI X NEW\n",
            "[ 0.4475      0.25145833 -2.27489583]\n",
            "=========\n",
            "0 [ 0 -2  6]\n",
            "1 [ 1  0 -2]\n",
            "2 [-2 -3  0]\n",
            "2 : [ 0.28477083  0.20864062 -2.19924392]\n",
            "INI X NEW\n",
            "[ 0.28477083  0.20864062 -2.19924392]\n",
            "=========\n",
            "0 [ 0 -2  6]\n",
            "1 [ 1  0 -2]\n",
            "2 [-2 -3  0]\n",
            "3 : [ 0.33872552  0.18430334 -2.20506018]\n",
            "INI X NEW\n",
            "[ 0.33872552  0.18430334 -2.20506018]\n",
            "=========\n",
            "0 [ 0 -2  6]\n",
            "1 [ 1  0 -2]\n",
            "2 [-2 -3  0]\n",
            "4 : [ 0.34010322  0.1875559  -2.20714569]\n",
            "[ 0.34010322  0.1875559  -2.20714569]\n",
            "\n",
            "Print Gauss Seidelnya\n",
            "False\n",
            "Diagonally Dominant\n",
            "INI X NEW\n",
            "[0. 0. 0. 0.]\n",
            "=========\n",
            "0 [ 0  5 -3  0]\n",
            "1 [-3  0 -2  2]\n",
            "2 [8 0 0 4]\n",
            "3 [-3  3  8  0]\n",
            "0 : [ 0.9        -0.81111111 -0.16470588  1.63006536]\n",
            "INI X NEW\n",
            "[ 0.9        -0.81111111 -0.16470588  1.63006536]\n",
            "=========\n",
            "0 [ 0  5 -3  0]\n",
            "1 [-3  0 -2  2]\n",
            "2 [8 0 0 4]\n",
            "3 [-3  3  8  0]\n",
            "1 : [ 0.54385621 -1.32866376  0.05124183  1.54717502]\n",
            "INI X NEW\n",
            "[ 0.54385621 -1.32866376  0.05124183  1.54717502]\n",
            "=========\n",
            "0 [ 0  5 -3  0]\n",
            "1 [-3  0 -2  2]\n",
            "2 [8 0 0 4]\n",
            "3 [-3  3  8  0]\n",
            "2 : [ 0.22029557 -1.37010885 -0.12052561  1.58236121]\n",
            "INI X NEW\n",
            "[ 0.22029557 -1.37010885 -0.12052561  1.58236121]\n",
            "=========\n",
            "0 [ 0  5 -3  0]\n",
            "1 [-3  0 -2  2]\n",
            "2 [8 0 0 4]\n",
            "3 [-3  3  8  0]\n",
            "3 : [ 0.25110326 -1.40582932 -0.09774877  1.58351919]\n",
            "INI X NEW\n",
            "[ 0.25110326 -1.40582932 -0.09774877  1.58351919]\n",
            "=========\n",
            "0 [ 0  5 -3  0]\n",
            "1 [-3  0 -2  2]\n",
            "2 [8 0 0 4]\n",
            "3 [-3  3  8  0]\n",
            "4 : [ 0.22640997 -1.40925622 -0.10909667  1.58531813]\n",
            "\n",
            "Print Gauss Seidelnya\n",
            "Diagonally Dominant\n",
            "INI X NEW\n",
            "[0. 0. 0. 0.]\n",
            "=========\n",
            "0 [ 0  5 -3  0]\n",
            "1 [-3  0 -2  2]\n",
            "2 [8 0 0 4]\n",
            "3 [-3  3  8  0]\n",
            "0 : [ 0.9        -0.81111111 -0.16470588  1.63006536]\n",
            "INI X NEW\n",
            "[ 0.9        -0.81111111 -0.16470588  1.63006536]\n",
            "=========\n",
            "0 [ 0  5 -3  0]\n",
            "1 [-3  0 -2  2]\n",
            "2 [8 0 0 4]\n",
            "3 [-3  3  8  0]\n",
            "1 : [ 0.54385621 -1.32866376  0.05124183  1.54717502]\n",
            "INI X NEW\n",
            "[ 0.54385621 -1.32866376  0.05124183  1.54717502]\n",
            "=========\n",
            "0 [ 0  5 -3  0]\n",
            "1 [-3  0 -2  2]\n",
            "2 [8 0 0 4]\n",
            "3 [-3  3  8  0]\n",
            "2 : [ 0.22029557 -1.37010885 -0.12052561  1.58236121]\n",
            "INI X NEW\n",
            "[ 0.22029557 -1.37010885 -0.12052561  1.58236121]\n",
            "=========\n",
            "0 [ 0  5 -3  0]\n",
            "1 [-3  0 -2  2]\n",
            "2 [8 0 0 4]\n",
            "3 [-3  3  8  0]\n",
            "3 : [ 0.25110326 -1.40582932 -0.09774877  1.58351919]\n",
            "INI X NEW\n",
            "[ 0.25110326 -1.40582932 -0.09774877  1.58351919]\n",
            "=========\n",
            "0 [ 0  5 -3  0]\n",
            "1 [-3  0 -2  2]\n",
            "2 [8 0 0 4]\n",
            "3 [-3  3  8  0]\n",
            "4 : [ 0.22640997 -1.40925622 -0.10909667  1.58531813]\n",
            "None\n"
          ]
        }
      ]
    },
    {
      "cell_type": "code",
      "source": [
        "# SNIPAD NO 3\n",
        "lX = [1, 5, 7, 2, 3, 9, 10, 4, 6, 8]\n",
        "lY = [34, 51, 80, 25, 90, 76, 100, 11, 45, 62]\n"
      ],
      "metadata": {
        "id": "davpE_UkMmwd"
      },
      "execution_count": null,
      "outputs": []
    },
    {
      "cell_type": "code",
      "source": [
        "#3\n",
        "# bikin dulu yang berapa yaitu\n",
        "lX = np.array(lX)\n",
        "lY = np.array(lY)\n",
        "\n",
        "# bikin a nya terlebih dahulu\n",
        "A = np.vstack([lX, np.ones(len(lX))]).T #isinya ngambil dari X nya\n",
        "print(A)\n",
        "Y = np.vstack(lY)\n",
        "print(Y)\n",
        "\n",
        "# CARA PENULISAN BETA \n",
        "# VERSI 1\n",
        "beta = np.dot(np.dot(np.linalg.inv(np.dot(A.T,A)), A.T), Y)\n",
        "print(beta) \n",
        "\n",
        "# VERSI 2\n",
        "# beta1 = np.dot(A.T,A)\n",
        "# beta2 = np.linalg.inv(beta1)\n",
        "# beta3 = np.dot(beta2, A.T)\n",
        "# beta4 = np.dot(beta3, Y)\n",
        "# print(beta4)\n",
        "\n",
        "# hasil yang pertama itu jadi m\n",
        "m =  beta[0]\n",
        "# hasil yagn kedua itu jadi c\n",
        "c = beta[1]\n",
        "\n",
        "#y = m * lX + c\n",
        "y = m * lX + c\n",
        "plt.plot(lX, lY, 'go') #green o\n",
        "plt.plot(lX, y, 'b-') #blue garis\n",
        "plt.show()"
      ],
      "metadata": {
        "id": "0PLjY6p6Mhkm"
      },
      "execution_count": null,
      "outputs": []
    },
    {
      "cell_type": "markdown",
      "source": [],
      "metadata": {
        "id": "MmnEA9S5QwZk"
      }
    },
    {
      "cell_type": "code",
      "source": [
        "#4\n",
        "from sympy import *\n",
        "a = symbols('a')\n",
        "\n",
        "f1 = 7*a**4 - 3*a**2 + a\n",
        "df1 = diff(f1,a)\n",
        "df1 = lambdify(a, df1, 'numpy')\n",
        "f1 = lambdify(a, f1, 'numpy')\n",
        "\n",
        "f2 = 8*a**6 + 5*a**4 - 2\n",
        "df2 = diff(f2,a)\n",
        "df2 = lambdify(a, df2, 'numpy')\n",
        "f2 = lambdify(a, f2, 'numpy')\n",
        "\n",
        "# Pertama bikin turunannya terlebih dahulu\n",
        "# bisa pake library atau manual\n",
        "# jika pakai library maka pakai yang di atas\n",
        "\n",
        "print(f2(2), df2(2))"
      ],
      "metadata": {
        "colab": {
          "base_uri": "https://localhost:8080/"
        },
        "id": "lKgN0-pcQq1D",
        "outputId": "fefebfbe-b180-4699-9a92-8fea9a92c948"
      },
      "execution_count": null,
      "outputs": [
        {
          "output_type": "stream",
          "name": "stdout",
          "text": [
            "590 1696\n"
          ]
        }
      ]
    },
    {
      "cell_type": "code",
      "source": [
        "def newton_raphson(f, df, tolerance, max, x0): #x0 ini adalah first guess\n",
        "  #nilainya harus lebih kecil dari tolerance\n",
        "  if max == 0:\n",
        "    print(\"Max Iteration Reached\")\n",
        "    return False\n",
        "  \n",
        "  if np.abs(f(x0)) < tolerance:\n",
        "    print(x0)\n",
        "    return True\n",
        "  \n",
        "  else:\n",
        "    return newton_raphson(f,df, tolerance, max-1, x0 - (f(x0) / df(x0)))"
      ],
      "metadata": {
        "id": "YH6sUmhvTYHN"
      },
      "execution_count": null,
      "outputs": []
    },
    {
      "cell_type": "code",
      "source": [
        "newton_raphson(f1, df1, 0.006541, 5, 1)\n",
        "newton_raphson(f2, df2, 0.006541, 5, 1)"
      ],
      "metadata": {
        "id": "wkGDtb1VUXvs"
      },
      "execution_count": null,
      "outputs": []
    },
    {
      "cell_type": "code",
      "source": [
        "#5\n",
        "fr = lambda x: 3*x**4 - 7*x**2 + 5\n",
        "\n",
        "# ambil batas atas dan batas bawahnya\n",
        "a = -4 #batas bawahnya\n",
        "b = 3 #batas atas\n",
        "n = 30 #jumlah gridnya\n",
        "\n",
        "x = np.linspace(a,b,n)\n",
        "width = (b-a)/(n-1)\n",
        "\n",
        "xLeft = x[:-1] #ini kita ambil dari awal sampai index terakhir tetapi dikurangi 1 index / sampai index sebelum index terakhir \n",
        "xRight = x[1:]\n",
        "xMid = (xLeft + xRight)/2\n",
        "\n",
        "yLeft = fr(xLeft)\n",
        "yRight = fr(xRight)\n",
        "yMid = fr(xMid)\n",
        "\n",
        "# cari nilai left riemann, right riemann\n",
        "leftRiemann = width * (sum(np.abs(yLeft)))\n",
        "rightRiemann = width * (sum(np.abs(yRight)))\n",
        "midRiemann = width * (sum(np.abs(yMid)))\n",
        "\n",
        "print(\"Left Riemann :\", leftRiemann)\n",
        "print(\"Right Riemann :\", rightRiemann)\n",
        "print(\"Mid Riemann :\", midRiemann)\n",
        "\n",
        "\n",
        "#Trapezoid\n",
        "yTrapezoid = fr(x)\n",
        "# trapezoid ini ikuti rumus trapesium\n",
        "trapezoid = (np.sum(np.abs(yTrapezoid[:-1])) + np.sum(np.abs(yTrapezoid[1:]))) * width /2.\n",
        "print(\"Trapezoid :\",trapezoid)"
      ],
      "metadata": {
        "id": "Ui2UvekeVggu"
      },
      "execution_count": null,
      "outputs": []
    }
  ]
}